{
 "cells": [
  {
   "cell_type": "code",
   "execution_count": 1,
   "metadata": {},
   "outputs": [
    {
     "name": "stdout",
     "output_type": "stream",
     "text": [
      "TensorFlow Version: 2.1.0\n",
      "Default GPU Device: /device:GPU:0\n"
     ]
    }
   ],
   "source": [
    "from distutils.version import LooseVersion\n",
    "import warnings\n",
    "import tensorflow as tf\n",
    "\n",
    "# Check TensorFlow Version\n",
    "assert LooseVersion(tf.__version__) >= LooseVersion('1.0'), 'Please use TensorFlow version 1.0 or newer.  You are using {}'.format(tf.__version__)\n",
    "print('TensorFlow Version: {}'.format(tf.__version__))\n",
    "\n",
    "# Check for a GPU\n",
    "if not tf.test.gpu_device_name():\n",
    "    warnings.warn('No GPU found. Please ensure you have installed TensorFlow correctly')\n",
    "else:\n",
    "    print('Default GPU Device: {}'.format(tf.test.gpu_device_name()))"
   ]
  },
  {
   "cell_type": "code",
   "execution_count": 2,
   "metadata": {},
   "outputs": [],
   "source": [
    "# file = open(\"Home_and_Kitchen_5.json\")\n",
    "# file2 = open(\"Home_and_Kitchen_5.txt\",\"w\") \n",
    "\n",
    "# for line in file:\n",
    "#     file2.writelines(line) "
   ]
  },
  {
   "cell_type": "code",
   "execution_count": 3,
   "metadata": {},
   "outputs": [],
   "source": [
    "# import csv\n",
    "\n",
    "# file = open(\"Home_and_Kitchen_5.txt\", \"r\")\n",
    "\n",
    "# with open('summary_text.csv', 'w', newline = '') as file2:\n",
    "    \n",
    "#     writer = csv.writer(file2)\n",
    "#     writer.writerow(['text','summary'])\n",
    "#     for line in file:\n",
    "#         text = line.split('\"reviewText\":')\n",
    "#         text = text[1].split(', \"unixReviewTime\":')\n",
    "#         text = text[0].split('\"summary\":')\n",
    "#         summary = text[1]\n",
    "#         text = text[0].split(', \"overall\":')\n",
    "#         writer.writerow([text[0],summary])"
   ]
  },
  {
   "cell_type": "code",
   "execution_count": 6,
   "metadata": {},
   "outputs": [],
   "source": [
    "# import pandas as pd\n",
    "\n",
    "# summary_text = pd.read_csv(\"summary_text.csv\")\n",
    "# summary_text.head()"
   ]
  },
  {
   "cell_type": "code",
   "execution_count": 7,
   "metadata": {},
   "outputs": [],
   "source": [
    "# from nltk.corpus import stopwords\n",
    "# import string\n",
    "\n",
    "# contractions = {\"ain't\": \"is not\", \"aren't\": \"are not\",\"can't\": \"cannot\", \"'cause\": \"because\", \"could've\": \"could have\", \n",
    "#                 \"couldn't\": \"could not\", \"didn't\": \"did not\",  \"doesn't\": \"does not\", \"don't\": \"do not\", \"hadn't\": \"had not\", \n",
    "#                 \"hasn't\": \"has not\", \"haven't\": \"have not\", \"he'd\": \"he would\",\"he'll\": \"he will\", \"he's\": \"he is\", \n",
    "#                 \"how'd\": \"how did\", \"how'd'y\": \"how do you\", \"how'll\": \"how will\", \"how's\": \"how is\",  \"i'd\": \"i would\", \n",
    "#                 \"i'd've\": \"i would have\", \"i'll\": \"i will\", \"i'll've\": \"i will have\",\"i'm\": \"i am\", \"i've\": \"i have\", \n",
    "#                 \"i'd\": \"i would\", \"i'd've\": \"i would have\", \"i'll\": \"i will\",  \"i'll've\": \"i will have\",\"i'm\": \"i am\", \n",
    "#                 \"i've\": \"i have\", \"isn't\": \"is not\", \"it'd\": \"it would\", \"it'd've\": \"it would have\", \"it'll\": \"it will\", \n",
    "#                 \"it'll've\": \"it will have\",\"it's\": \"it is\", \"let's\": \"let us\", \"ma'am\": \"madam\", \"mayn't\": \"may not\", \n",
    "#                 \"might've\": \"might have\",\"mightn't\": \"might not\",\"mightn't've\": \"might not have\", \"must've\": \"must have\", \n",
    "#                 \"mustn't\": \"must not\", \"mustn't've\": \"must not have\", \"needn't\": \"need not\", \"needn't've\": \"need not have\",\n",
    "#                 \"o'clock\": \"of the clock\", \"oughtn't\": \"ought not\", \"oughtn't've\": \"ought not have\", \"shan't\": \"shall not\", \n",
    "#                 \"sha'n't\": \"shall not\", \"shan't've\": \"shall not have\", \"she'd\": \"she would\", \"she'd've\": \"she would have\", \n",
    "#                 \"she'll\": \"she will\", \"she'll've\": \"she will have\", \"she's\": \"she is\", \"should've\": \"should have\", \n",
    "#                 \"shouldn't\": \"should not\", \"shouldn't've\": \"should not have\", \"so've\": \"so have\",\"so's\": \"so as\", \n",
    "#                 \"this's\": \"this is\",\"that'd\": \"that would\", \"that'd've\": \"that would have\", \"that's\": \"that is\", \n",
    "#                 \"there'd\": \"there would\", \"there'd've\": \"there would have\", \"there's\": \"there is\", \"here's\": \"here is\",\n",
    "#                 \"they'd\": \"they would\", \"they'd've\": \"they would have\", \"they'll\": \"they will\", \"they'll've\": \"they will have\", \n",
    "#                 \"they're\": \"they are\", \"they've\": \"they have\", \"to've\": \"to have\", \"wasn't\": \"was not\", \"we'd\": \"we would\", \n",
    "#                 \"we'd've\": \"we would have\", \"we'll\": \"we will\", \"we'll've\": \"we will have\", \"we're\": \"we are\", \"we've\": \"we have\", \n",
    "#                 \"weren't\": \"were not\", \"what'll\": \"what will\", \"what'll've\": \"what will have\", \"what're\": \"what are\",  \n",
    "#                 \"what's\": \"what is\", \"what've\": \"what have\", \"when's\": \"when is\", \"when've\": \"when have\", \"where'd\": \"where did\", \n",
    "#                 \"where's\": \"where is\", \"where've\": \"where have\", \"who'll\": \"who will\", \"who'll've\": \"who will have\", \n",
    "#                 \"who's\": \"who is\", \"who've\": \"who have\", \"why's\": \"why is\", \"why've\": \"why have\", \"will've\": \"will have\", \n",
    "#                 \"won't\": \"will not\", \"won't've\": \"will not have\", \"would've\": \"would have\", \"wouldn't\": \"would not\", \n",
    "#                 \"wouldn't've\": \"would not have\", \"y'all\": \"you all\", \"y'all'd\": \"you all would\",\"y'all'd've\": \"you all would have\",\n",
    "#                 \"y'all're\": \"you all are\",\"y'all've\": \"you all have\",\"you'd\": \"you would\", \"you'd've\": \"you would have\", \n",
    "#                 \"you'll\": \"you will\", \"you'll've\": \"you will have\", \"you're\": \"you are\", \"you've\": \"you have\"}\n",
    "\n",
    "# stop_words = set(stopwords.words('english'))\n",
    "\n",
    "# def preprocess_data(text):\n",
    "    \n",
    "#     text = text.replace('\"', '')\n",
    "#     text = text.lower()\n",
    "#     text_lst = text.split()\n",
    "#     lst = []\n",
    "    \n",
    "#     for word in text_lst:\n",
    "#         if word in contractions:\n",
    "#             lst.append(contractions[word])\n",
    "#         else:\n",
    "#             lst.append(word)\n",
    "    \n",
    "#     text = \" \".join(lst)\n",
    "#     replace_punctuation = str.maketrans(string.punctuation, ' '*len(string.punctuation))\n",
    "#     text = text.translate(replace_punctuation)\n",
    "#     text = ' '.join([w for w in text.split() if not w in stop_words])\n",
    "    \n",
    "#     return text"
   ]
  },
  {
   "cell_type": "code",
   "execution_count": 8,
   "metadata": {},
   "outputs": [],
   "source": [
    "# import csv\n",
    "\n",
    "# with open('summary_text_clean.csv', 'w', newline = '') as file3:\n",
    "#     writer = csv.writer(file3)\n",
    "#     writer.writerow(['text','summary'])\n",
    "#     row_num = summary_text.shape[0]\n",
    "#     for i in range(row_num):\n",
    "#         text = preprocess_data(summary_text.text[i])\n",
    "#         summary = preprocess_data(summary_text.summary[i])\n",
    "#         writer.writerow([text,summary])"
   ]
  },
  {
   "cell_type": "code",
   "execution_count": 9,
   "metadata": {},
   "outputs": [
    {
     "data": {
      "text/html": [
       "<div>\n",
       "<style scoped>\n",
       "    .dataframe tbody tr th:only-of-type {\n",
       "        vertical-align: middle;\n",
       "    }\n",
       "\n",
       "    .dataframe tbody tr th {\n",
       "        vertical-align: top;\n",
       "    }\n",
       "\n",
       "    .dataframe thead th {\n",
       "        text-align: right;\n",
       "    }\n",
       "</style>\n",
       "<table border=\"1\" class=\"dataframe\">\n",
       "  <thead>\n",
       "    <tr style=\"text-align: right;\">\n",
       "      <th></th>\n",
       "      <th>text</th>\n",
       "      <th>summary</th>\n",
       "    </tr>\n",
       "  </thead>\n",
       "  <tbody>\n",
       "    <tr>\n",
       "      <th>0</th>\n",
       "      <td>daughter wanted book price amazon best already...</td>\n",
       "      <td>best price</td>\n",
       "    </tr>\n",
       "    <tr>\n",
       "      <th>1</th>\n",
       "      <td>bought zoku quick pop daughterr zoku quick mak...</td>\n",
       "      <td>zoku</td>\n",
       "    </tr>\n",
       "    <tr>\n",
       "      <th>2</th>\n",
       "      <td>shortage pop recipes available free web purcha...</td>\n",
       "      <td>excels sweet dessert pops falls short fruit pops</td>\n",
       "    </tr>\n",
       "    <tr>\n",
       "      <th>3</th>\n",
       "      <td>book must get zoku also highly recommend large...</td>\n",
       "      <td>creative combos</td>\n",
       "    </tr>\n",
       "    <tr>\n",
       "      <th>4</th>\n",
       "      <td>cookbook great really enjoyed reviewing recipe...</td>\n",
       "      <td>must zoku maker</td>\n",
       "    </tr>\n",
       "  </tbody>\n",
       "</table>\n",
       "</div>"
      ],
      "text/plain": [
       "                                                text  \\\n",
       "0  daughter wanted book price amazon best already...   \n",
       "1  bought zoku quick pop daughterr zoku quick mak...   \n",
       "2  shortage pop recipes available free web purcha...   \n",
       "3  book must get zoku also highly recommend large...   \n",
       "4  cookbook great really enjoyed reviewing recipe...   \n",
       "\n",
       "                                            summary  \n",
       "0                                        best price  \n",
       "1                                              zoku  \n",
       "2  excels sweet dessert pops falls short fruit pops  \n",
       "3                                   creative combos  \n",
       "4                                   must zoku maker  "
      ]
     },
     "execution_count": 9,
     "metadata": {},
     "output_type": "execute_result"
    }
   ],
   "source": [
    "import pandas as pd\n",
    "\n",
    "data = pd.read_csv(\"summary_text_clean.csv\").dropna().reset_index(drop=True)\n",
    "data.head()"
   ]
  },
  {
   "cell_type": "code",
   "execution_count": 13,
   "metadata": {},
   "outputs": [
    {
     "data": {
      "text/plain": [
       "<matplotlib.axes._subplots.AxesSubplot at 0x1f8bc2b0788>"
      ]
     },
     "execution_count": 13,
     "metadata": {},
     "output_type": "execute_result"
    },
    {
     "data": {
      "image/png": "[encoded data removed]",
      "text/plain": [
       "<Figure size 432x288 with 1 Axes>"
      ]
     },
     "metadata": {},
     "output_type": "display_data"
    }
   ],
   "source": [
    "import matplotlib.pyplot as plt\n",
    "import seaborn as sns\n",
    "\n",
    "sns.set(color_codes=True)\n",
    "\n",
    "text_length = []\n",
    "summary_length = []\n",
    "\n",
    "for i in range(len(data)):\n",
    "    text_length.append(len(data['text'][i].split()))\n",
    "    summary_length.append(len(data['summary'][i].split()))\n",
    "\n",
    "text_length.sort()\n",
    "summary_length.sort()\n",
    "\n",
    "sns.distplot(text_length, bins=30, kde=False, rug=True)"
   ]
  },
  {
   "cell_type": "code",
   "execution_count": 14,
   "metadata": {},
   "outputs": [
    {
     "data": {
      "text/plain": [
       "<matplotlib.axes._subplots.AxesSubplot at 0x1f8b3a39d88>"
      ]
     },
     "execution_count": 14,
     "metadata": {},
     "output_type": "execute_result"
    },
    {
     "data": {
      "image/png": "[encoded data removed]",
      "text/plain": [
       "<Figure size 432x288 with 1 Axes>"
      ]
     },
     "metadata": {},
     "output_type": "display_data"
    }
   ],
   "source": [
    "sns.distplot(summary_length, bins=30, kde=False, rug=True)"
   ]
  },
  {
   "cell_type": "code",
   "execution_count": 15,
   "metadata": {},
   "outputs": [],
   "source": [
    "import numpy as np\n",
    "\n",
    "max_text_length = np.percentile(text_length, 95)\n",
    "max_summary_length = np.percentile(summary_length, 95)\n",
    "\n",
    "text = []\n",
    "summary = []\n",
    "\n",
    "for i in range(len(data)):\n",
    "    if len(data['text'][i].split()) <= max_text_length and \\\n",
    "        len(data['text'][i].split()) > 0 and \\\n",
    "        len(data['summary'][i].split()) > 0 and \\\n",
    "        len(data['summary'][i].split()) <= max_summary_length:\n",
    "        text.append(data['text'][i])\n",
    "        update_summary = 'starttoken ' + data['summary'][i] + ' endtoken'\n",
    "        summary.append(update_summary)\n",
    "text_summary = pd.DataFrame({'text': text, 'summary': summary})"
   ]
  },
  {
   "cell_type": "code",
   "execution_count": 16,
   "metadata": {},
   "outputs": [
    {
     "data": {
      "text/html": [
       "<div>\n",
       "<style scoped>\n",
       "    .dataframe tbody tr th:only-of-type {\n",
       "        vertical-align: middle;\n",
       "    }\n",
       "\n",
       "    .dataframe tbody tr th {\n",
       "        vertical-align: top;\n",
       "    }\n",
       "\n",
       "    .dataframe thead th {\n",
       "        text-align: right;\n",
       "    }\n",
       "</style>\n",
       "<table border=\"1\" class=\"dataframe\">\n",
       "  <thead>\n",
       "    <tr style=\"text-align: right;\">\n",
       "      <th></th>\n",
       "      <th>text</th>\n",
       "      <th>summary</th>\n",
       "    </tr>\n",
       "  </thead>\n",
       "  <tbody>\n",
       "    <tr>\n",
       "      <th>0</th>\n",
       "      <td>daughter wanted book price amazon best already...</td>\n",
       "      <td>starttoken best price endtoken</td>\n",
       "    </tr>\n",
       "    <tr>\n",
       "      <th>1</th>\n",
       "      <td>bought zoku quick pop daughterr zoku quick mak...</td>\n",
       "      <td>starttoken zoku endtoken</td>\n",
       "    </tr>\n",
       "    <tr>\n",
       "      <th>2</th>\n",
       "      <td>book must get zoku also highly recommend large...</td>\n",
       "      <td>starttoken creative combos endtoken</td>\n",
       "    </tr>\n",
       "    <tr>\n",
       "      <th>3</th>\n",
       "      <td>cookbook great really enjoyed reviewing recipe...</td>\n",
       "      <td>starttoken must zoku maker endtoken</td>\n",
       "    </tr>\n",
       "    <tr>\n",
       "      <th>4</th>\n",
       "      <td>zoku quick pop maker two original one slot bou...</td>\n",
       "      <td>starttoken love endtoken</td>\n",
       "    </tr>\n",
       "  </tbody>\n",
       "</table>\n",
       "</div>"
      ],
      "text/plain": [
       "                                                text  \\\n",
       "0  daughter wanted book price amazon best already...   \n",
       "1  bought zoku quick pop daughterr zoku quick mak...   \n",
       "2  book must get zoku also highly recommend large...   \n",
       "3  cookbook great really enjoyed reviewing recipe...   \n",
       "4  zoku quick pop maker two original one slot bou...   \n",
       "\n",
       "                               summary  \n",
       "0       starttoken best price endtoken  \n",
       "1             starttoken zoku endtoken  \n",
       "2  starttoken creative combos endtoken  \n",
       "3  starttoken must zoku maker endtoken  \n",
       "4             starttoken love endtoken  "
      ]
     },
     "execution_count": 16,
     "metadata": {},
     "output_type": "execute_result"
    }
   ],
   "source": [
    "text_summary.head()"
   ]
  },
  {
   "cell_type": "code",
   "execution_count": 19,
   "metadata": {},
   "outputs": [],
   "source": [
    "# split the dataset into training and validation set\n",
    "from sklearn.model_selection import train_test_split\n",
    "\n",
    "x_train, x_val, y_train, y_val = train_test_split(np.array(text_summary['text']),np.array(text_summary['summary']),\n",
    "                                                  test_size=0.1,random_state=0,shuffle=True)"
   ]
  },
  {
   "cell_type": "code",
   "execution_count": 20,
   "metadata": {},
   "outputs": [],
   "source": [
    "from collections import Counter\n",
    "\n",
    "counter = Counter()\n",
    "\n",
    "for sentence in list(x_train):\n",
    "    for word in sentence.split():\n",
    "        counter[word] += 1\n",
    "\n",
    "rare_threshold = 5\n",
    "\n",
    "rare_count = 0\n",
    "total_count = 0\n",
    "rare_frequency = 0\n",
    "total_frequency = 0\n",
    "\n",
    "for key, value in counter.items():\n",
    "    total_count += 1\n",
    "    total_frequency += value\n",
    "    if value < rare_threshold:\n",
    "        rare_count += 1\n",
    "        rare_frequency += value"
   ]
  },
  {
   "cell_type": "code",
   "execution_count": 21,
   "metadata": {},
   "outputs": [],
   "source": [
    "from tensorflow.keras.preprocessing.text import Tokenizer\n",
    "from tensorflow.keras.preprocessing.sequence import pad_sequences\n",
    "\n",
    "x_tokenizer = Tokenizer(num_words = total_count-rare_count, oov_token='<UNK>')\n",
    "x_tokenizer.fit_on_texts(list(x_train))\n",
    "\n",
    "x_train_sequence = x_tokenizer.texts_to_sequences(x_train)\n",
    "x_val_sequence = x_tokenizer.texts_to_sequences(x_val)\n",
    "\n",
    "x_train = pad_sequences(x_train_sequence,  maxlen=int(max_text_length), padding='post')\n",
    "x_val = pad_sequences(x_val_sequence, maxlen=int(max_text_length), padding='post')\n",
    "\n",
    "x_vocabulary = total_count-rare_count + 1"
   ]
  },
  {
   "cell_type": "code",
   "execution_count": 22,
   "metadata": {},
   "outputs": [],
   "source": [
    "counter = Counter()\n",
    "\n",
    "for sentence in list(y_train):\n",
    "    for word in sentence.split():\n",
    "        counter[word] += 1\n",
    "\n",
    "rare_threshold = 5\n",
    "\n",
    "rare_count = 0\n",
    "total_count = 0\n",
    "rare_frequency = 0\n",
    "total_frequency = 0\n",
    "\n",
    "for key, value in counter.items():\n",
    "    total_count += 1\n",
    "    total_frequency += value\n",
    "    if value < rare_threshold:\n",
    "        rare_count += 1\n",
    "        rare_frequency += value"
   ]
  },
  {
   "cell_type": "code",
   "execution_count": 23,
   "metadata": {},
   "outputs": [],
   "source": [
    "y_tokenizer = Tokenizer(num_words = total_count-rare_count)\n",
    "y_tokenizer.fit_on_texts(list(y_train))\n",
    "\n",
    "y_train_sequence = y_tokenizer.texts_to_sequences(y_train)\n",
    "y_val_sequence = y_tokenizer.texts_to_sequences(y_val)\n",
    "\n",
    "y_train = pad_sequences(y_train_sequence,  maxlen=int(max_summary_length+2), padding='post')\n",
    "y_val = pad_sequences(y_val_sequence, maxlen=int(max_summary_length+2), padding='post')\n",
    "\n",
    "y_vocabulary = total_count-rare_count + 1"
   ]
  },
  {
   "cell_type": "code",
   "execution_count": 26,
   "metadata": {},
   "outputs": [
    {
     "name": "stdout",
     "output_type": "stream",
     "text": [
      "Model: \"model\"\n",
      "__________________________________________________________________________________________________\n",
      "Layer (type)                    Output Shape         Param #     Connected to                     \n",
      "==================================================================================================\n",
      "input_1 (InputLayer)            [(None, 154)]        0                                            \n",
      "__________________________________________________________________________________________________\n",
      "input_2 (InputLayer)            [(None, None)]       0                                            \n",
      "__________________________________________________________________________________________________\n",
      "embedding (Embedding)           (None, 154, 200)     6362800     input_1[0][0]                    \n",
      "__________________________________________________________________________________________________\n",
      "embedding_1 (Embedding)         (None, None, 200)    1674600     input_2[0][0]                    \n",
      "__________________________________________________________________________________________________\n",
      "lstm (LSTM)                     [(None, 154, 200), ( 320800      embedding[0][0]                  \n",
      "__________________________________________________________________________________________________\n",
      "lstm_1 (LSTM)                   [(None, None, 200),  320800      embedding_1[0][0]                \n",
      "                                                                 lstm[0][1]                       \n",
      "                                                                 lstm[0][2]                       \n",
      "__________________________________________________________________________________________________\n",
      "attention_layer (AttentionLayer ((None, None, 200),  80200       lstm[0][0]                       \n",
      "                                                                 lstm_1[0][0]                     \n",
      "__________________________________________________________________________________________________\n",
      "concat_layer (Concatenate)      (None, None, 400)    0           lstm_1[0][0]                     \n",
      "                                                                 attention_layer[0][0]            \n",
      "__________________________________________________________________________________________________\n",
      "time_distributed (TimeDistribut (None, None, 8373)   3357573     concat_layer[0][0]               \n",
      "==================================================================================================\n",
      "Total params: 12,116,773\n",
      "Trainable params: 12,116,773\n",
      "Non-trainable params: 0\n",
      "__________________________________________________________________________________________________\n"
     ]
    }
   ],
   "source": [
    "from tensorflow.keras.layers import Input, LSTM, Embedding, Dense, Concatenate, TimeDistributed\n",
    "from tensorflow.keras.models import Model\n",
    "from attention import AttentionLayer\n",
    "\n",
    "hidden_dim = 200\n",
    "embedding_dim = 200\n",
    "\n",
    "# encoder\n",
    "encoder_inputs = Input(shape=(int(max_text_length),))\n",
    "encoder_embedding = Embedding(x_vocabulary, embedding_dim, trainable=True)(encoder_inputs)\n",
    "encoder_lstm = LSTM(hidden_dim, return_sequences=True, return_state=True, dropout=0.3)\n",
    "encoder_outputs, encoder_state_h, encoder_state_c = encoder_lstm(encoder_embedding)\n",
    "\n",
    "# decoder\n",
    "decoder_inputs = Input(shape=(None,))\n",
    "decoder_embedding_layer = Embedding(y_vocabulary, embedding_dim, trainable = True)\n",
    "decoder_embedding = decoder_embedding_layer(decoder_inputs)\n",
    "decoder_lstm = LSTM(hidden_dim, return_sequences=True, return_state=True, dropout=0.3)\n",
    "init_state = [encoder_state_h, encoder_state_c]\n",
    "decoder_outputs, decoder_state_h, decoder_state_c = decoder_lstm(decoder_embedding, initial_state=init_state)\n",
    "\n",
    "# attention layer\n",
    "attention_layer = AttentionLayer(name = 'attention_layer')\n",
    "attention_outputs, attention_state = attention_layer([encoder_outputs, decoder_outputs])\n",
    "decoder_attention = Concatenate(axis=-1, name='concat_layer')([decoder_outputs, attention_outputs])\n",
    "\n",
    "# dense layer\n",
    "decoder_dense = TimeDistributed(Dense(y_vocabulary, activation='softmax'))\n",
    "decoder_outputs = decoder_dense(decoder_attention)\n",
    "\n",
    "model = Model([encoder_inputs, decoder_inputs], decoder_outputs)\n",
    "\n",
    "model.summary()"
   ]
  },
  {
   "cell_type": "code",
   "execution_count": 27,
   "metadata": {},
   "outputs": [
    {
     "name": "stdout",
     "output_type": "stream",
     "text": [
      "Train on 450713 samples, validate on 50088 samples\n",
      "Epoch 1/50\n",
      "450713/450713 [==============================] - 596s 1ms/sample - loss: 2.4701 - val_loss: 2.2950\n",
      "Epoch 2/50\n",
      "450713/450713 [==============================] - 596s 1ms/sample - loss: 2.2287 - val_loss: 2.1817\n",
      "Epoch 3/50\n",
      "450713/450713 [==============================] - 580s 1ms/sample - loss: 2.1470 - val_loss: 2.1288\n",
      "Epoch 4/50\n",
      "450713/450713 [==============================] - 587s 1ms/sample - loss: 2.1010 - val_loss: 2.1095\n",
      "Epoch 5/50\n",
      "450713/450713 [==============================] - 584s 1ms/sample - loss: 2.0758 - val_loss: 2.0929\n",
      "Epoch 6/50\n",
      "450713/450713 [==============================] - 584s 1ms/sample - loss: 2.0587 - val_loss: 2.0877\n",
      "Epoch 7/50\n",
      "450713/450713 [==============================] - 621s 1ms/sample - loss: 2.0492 - val_loss: 2.0911\n",
      "Epoch 8/50\n",
      "450713/450713 [==============================] - 628s 1ms/sample - loss: 2.0429 - val_loss: 2.0915\n",
      "Epoch 00008: early stopping\n"
     ]
    }
   ],
   "source": [
    "from tensorflow.keras.callbacks import EarlyStopping\n",
    "\n",
    "model.compile(optimizer='adam', loss='sparse_categorical_crossentropy')\n",
    "\n",
    "early_stop = EarlyStopping(monitor='val_loss', mode='min', verbose=1, patience=2)\n",
    "\n",
    "result = model.fit([x_train,y_train[:,:-1]], y_train.reshape(y_train.shape[0], y_train.shape[1], 1)[:,1:], epochs=50, callbacks=[early_stop], batch_size=150, validation_data=([x_val,y_val[:,:-1]], y_val.reshape(y_val.shape[0],y_val.shape[1], 1)[:,1:]))"
   ]
  },
  {
   "cell_type": "code",
   "execution_count": 28,
   "metadata": {},
   "outputs": [],
   "source": [
    "encoder_model = Model(inputs=encoder_inputs, outputs=[encoder_outputs, encoder_state_h, encoder_state_c])\n",
    "\n",
    "decoder_state_input_h = Input(shape=(hidden_dim,))\n",
    "decoder_state_input_c = Input(shape=(hidden_dim,))\n",
    "decoder_hidden_state = Input(shape=(int(max_text_length), hidden_dim))\n",
    "decoder_embedding2 = decoder_embedding_layer(decoder_inputs)\n",
    "\n",
    "init_state = [decoder_state_input_h, decoder_state_input_c]\n",
    "\n",
    "decoder_outputs2, decoder_state_h2, decoder_state_c2 = decoder_lstm(decoder_embedding2, initial_state = init_state)\n",
    "\n",
    "attention_output, attention_states = attention_layer([decoder_hidden_state, decoder_outputs2])\n",
    "\n",
    "decoder_concat_attention = Concatenate(axis=-1, name='concat')([decoder_outputs2, attention_output])\n",
    "decoder_outputs2 = decoder_dense(decoder_concat_attention)\n",
    "decoder_state = [decoder_hidden_state, decoder_state_input_h, decoder_state_input_c]\n",
    "decoder_model = Model([decoder_inputs] + decoder_state, [decoder_outputs2] + [decoder_state_h2, decoder_state_c2])"
   ]
  },
  {
   "cell_type": "code",
   "execution_count": 29,
   "metadata": {},
   "outputs": [],
   "source": [
    "summary_dic = y_tokenizer.index_word\n",
    "target_word_index = y_tokenizer.word_index\n",
    "\n",
    "def decode_sequence(input_sequence):\n",
    "    encoder_output, encoder_hidden, encoder_cell = encoder_model.predict(input_sequence)\n",
    "    target_sequence = np.zeros((1,1))\n",
    "    target_sequence[0,0] = target_word_index['starttoken']\n",
    "    \n",
    "    stop = False\n",
    "    decoded_sentence = ''\n",
    "    \n",
    "    while not stop:\n",
    "        output_tokens, hidden, cell = decoder_model.predict([target_sequence]+[encoder_output, encoder_hidden, encoder_cell])\n",
    "        \n",
    "        sampled_token_index = np.argmax(output_tokens[0, -1, :])\n",
    "        sampled_char = summary_dic[sampled_token_index]\n",
    "        \n",
    "        if sampled_char != 'endtoken':\n",
    "            decoded_sentence += ' ' + sampled_char\n",
    "        \n",
    "        if sampled_char == 'endtoken' or len(decoded_sentence.split()) > int(max_summary_length):\n",
    "            stop = True\n",
    "        \n",
    "        target_sequence = np.zeros((1,1))\n",
    "        target_sequence[0,0] = sampled_token_index\n",
    "        \n",
    "        encoder_hidden, encoder_cell = hidden, cell\n",
    "    \n",
    "    return decoded_sentence"
   ]
  },
  {
   "cell_type": "code",
   "execution_count": 30,
   "metadata": {},
   "outputs": [],
   "source": [
    "def generate_summary(input_sequence):\n",
    "    result = ''\n",
    "    for i in input_sequence:\n",
    "        if (i != 0 and i != target_word_index['starttoken']) and i != target_word_index['endtoken']:\n",
    "            result += summary_dic[i] + ' '\n",
    "    return result"
   ]
  },
  {
   "cell_type": "code",
   "execution_count": 40,
   "metadata": {},
   "outputs": [],
   "source": [
    "origin_list = []\n",
    "predict_list = []\n",
    "for i in range(10000):\n",
    "    if len(generate_summary(y_train[i])) != 0 and len(decode_sequence(x_train[i].reshape(1,int(max_text_length)))) != 0:\n",
    "        origin_list.append(generate_summary(y_train[i]))\n",
    "        predict_list.append(decode_sequence(x_train[i].reshape(1,int(max_text_length))))"
   ]
  },
  {
   "cell_type": "code",
   "execution_count": 41,
   "metadata": {},
   "outputs": [],
   "source": [
    "from rouge import Rouge\n",
    "\n",
    "rouge = Rouge()\n",
    "scores = rouge.get_scores(origin_list, predict_list, avg=True)"
   ]
  },
  {
   "cell_type": "code",
   "execution_count": 42,
   "metadata": {},
   "outputs": [
    {
     "data": {
      "text/plain": [
       "{'rouge-1': {'f': 0.1715411578625743,\n",
       "  'p': 0.158782634790437,\n",
       "  'r': 0.2125654362975558},\n",
       " 'rouge-2': {'f': 0.03741606584889325,\n",
       "  'p': 0.03501050315094525,\n",
       "  'r': 0.04493848154446334},\n",
       " 'rouge-l': {'f': 0.17187149505749832,\n",
       "  'p': 0.1589610216398251,\n",
       "  'r': 0.21265379613884144}}"
      ]
     },
     "execution_count": 42,
     "metadata": {},
     "output_type": "execute_result"
    }
   ],
   "source": [
    "scores"
   ]
  },
  {
   "cell_type": "code",
   "execution_count": null,
   "metadata": {},
   "outputs": [],
   "source": []
  }
 ],
 "metadata": {
  "kernelspec": {
   "display_name": "gputest",
   "language": "python",
   "name": "gputest"
  },
  "language_info": {
   "codemirror_mode": {
    "name": "ipython",
    "version": 3
   },
   "file_extension": ".py",
   "mimetype": "text/x-python",
   "name": "python",
   "nbconvert_exporter": "python",
   "pygments_lexer": "ipython3",
   "version": "3.7.7"
  }
 },
 "nbformat": 4,
 "nbformat_minor": 2
}
